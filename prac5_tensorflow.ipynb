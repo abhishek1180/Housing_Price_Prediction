{
 "cells": [
  {
   "cell_type": "code",
   "execution_count": 3,
   "metadata": {},
   "outputs": [],
   "source": [
    "import tensorflow as tf"
   ]
  },
  {
   "cell_type": "code",
   "execution_count": 4,
   "metadata": {},
   "outputs": [],
   "source": [
    "import pandas as pd"
   ]
  },
  {
   "cell_type": "code",
   "execution_count": 5,
   "metadata": {},
   "outputs": [],
   "source": [
    "from pandas import read_csv"
   ]
  },
  {
   "cell_type": "code",
   "execution_count": 6,
   "metadata": {},
   "outputs": [
    {
     "name": "stdout",
     "output_type": "stream",
     "text": [
      "      crim    zn  indus  chas    nox     rm   age     dis  rad    tax  \\\n",
      "0  0.00632  18.0   2.31     0  0.538  6.575  65.2  4.0900    1  296.0   \n",
      "1  0.02731   0.0   7.07     0  0.469  6.421  78.9  4.9671    2  242.0   \n",
      "2  0.02729   0.0   7.07     0  0.469  7.185  61.1  4.9671    2  242.0   \n",
      "3  0.03237   0.0   2.18     0  0.458  6.998  45.8  6.0622    3  222.0   \n",
      "4  0.06905   0.0   2.18     0  0.458  7.147  54.2  6.0622    3  222.0   \n",
      "\n",
      "   ptratio       b  lstat  medv  \n",
      "0     15.3  396.90   4.98  24.0  \n",
      "1     17.8  396.90   9.14  21.6  \n",
      "2     17.8  392.83   4.03  34.7  \n",
      "3     18.7  394.63   2.94  33.4  \n",
      "4     18.7  396.90   5.33  36.2  \n",
      "(506, 14)\n"
     ]
    }
   ],
   "source": [
    "columns=['crim','zn','indus','chas','nox','rm','age','dis','rad','tax','ptratio','b','lstat','medv']\n",
    "path=\"https://archive.ics.uci.edu/ml/machine-learning-databases/housing/housing.data\"\n",
    "d_frame=read_csv(path, sep='\\s+', names=columns)\n",
    "print(d_frame.head(),d_frame.shape,sep=\"\\n\")"
   ]
  },
  {
   "cell_type": "raw",
   "metadata": {},
   "source": [
    "    1. CRIM      per capita crime rate by town\t\t\t\t\n",
    "    2. ZN        proportion of residential land zoned for lots over 25,000 sq.ft.\t\t\t\t\n",
    "    3. INDUS     proportion of non-retail business acres per town\t\t\t\t\n",
    "    4. CHAS      Charles River dummy variable (= 1 if tract bounds  river; 0 otherwise)\t\t\t\t\n",
    "    5. NOX       nitric oxides concentration (parts per 10 million)\t\t\t\t\n",
    "    6. RM          average number of rooms per dwelling\t\t\t\t\n",
    "    7. AGE         proportion of owner-occupied units built prior to 1940\t\t\t\t\n",
    "    8. DIS            weighted distances to five Boston employment centres\t\t\t\t\n",
    "    9. RAD              index of accessibility to radial highways\t\t\t\t\n",
    "    10. TAX                full-value property-tax rate per $10\t\t\t\t\n",
    "    11. PTRATIO          pupil-teacher ratio by town\t\t\t\t\n",
    "    12. B                         1000(Bk - 0.63)^2 where Bk is the proportion of blacks by town \n",
    "    13. LSTAT                % lower status of the population\t\t\t\t\n",
    "    14. MEDV                 Median value of owner-occupied homes in $1000's\t\t\t\t\n"
   ]
  },
  {
   "cell_type": "code",
   "execution_count": 7,
   "metadata": {},
   "outputs": [],
   "source": [
    "training_set =d_frame.iloc[0:350,:]\n",
    "test_set = d_frame.iloc[350:450,:]\n",
    "prediction_set = d_frame.iloc[450:507,:]\n"
   ]
  },
  {
   "cell_type": "markdown",
   "metadata": {},
   "source": [
    "# using pandas estimator"
   ]
  },
  {
   "cell_type": "code",
   "execution_count": 6,
   "metadata": {},
   "outputs": [
    {
     "name": "stdout",
     "output_type": "stream",
     "text": [
      "(350, 14) (100, 14) (56, 14)\n"
     ]
    }
   ],
   "source": [
    "print(training_set.shape, test_set.shape, prediction_set.shape)"
   ]
  },
  {
   "cell_type": "code",
   "execution_count": 8,
   "metadata": {},
   "outputs": [],
   "source": [
    "from sklearn import datasets\n",
    "import itertools"
   ]
  },
  {
   "cell_type": "code",
   "execution_count": 31,
   "metadata": {},
   "outputs": [],
   "source": [
    "FEATURES = ['crim','zn','indus','chas','nox','rm','age','dis','rad','tax','ptratio','b','lstat']\n",
    "LABEL = \"medv\"\n"
   ]
  },
  {
   "cell_type": "code",
   "execution_count": 32,
   "metadata": {},
   "outputs": [],
   "source": [
    "feature_cols = [tf.feature_column.numeric_column(k) for k in FEATURES]"
   ]
  },
  {
   "cell_type": "code",
   "execution_count": 28,
   "metadata": {},
   "outputs": [
    {
     "data": {
      "text/plain": [
       "NumericColumn(key='crim', shape=(1,), default_value=None, dtype=tf.float32, normalizer_fn=None)"
      ]
     },
     "execution_count": 28,
     "metadata": {},
     "output_type": "execute_result"
    }
   ],
   "source": [
    "feature_cols[0]"
   ]
  },
  {
   "cell_type": "raw",
   "metadata": {},
   "source": [
    "Tensorflow currently provides 6 pre-built estimators, including 3 for classification task and 3 for regression task:\n",
    "\n",
    "1. Regressor\n",
    "   - DNNRegressor\n",
    "   - LinearRegressor\n",
    "   - DNNLineaCombinedRegressor\n",
    "2. Classifier\n",
    "   - DNNClassifier\n",
    "   - LinearClassifier\n",
    "   - DNNLineaCombinedClassifier\n",
    "\n",
    "We use the Linear Regressor. To access this function, you need to use tf.estimator.\n",
    "The function needs two arguments:\n",
    "   - feature_columns: Contains the variables to include in the model\n",
    "   - model_dir: path to store the graph, save the model parameters, etc"
   ]
  },
  {
   "cell_type": "code",
   "execution_count": 18,
   "metadata": {},
   "outputs": [
    {
     "name": "stdout",
     "output_type": "stream",
     "text": [
      "INFO:tensorflow:Using default config.\n",
      "INFO:tensorflow:Using config: {'_model_dir': 'train', '_tf_random_seed': None, '_save_summary_steps': 100, '_save_checkpoints_steps': None, '_save_checkpoints_secs': 600, '_session_config': allow_soft_placement: true\n",
      "graph_options {\n",
      "  rewrite_options {\n",
      "    meta_optimizer_iterations: ONE\n",
      "  }\n",
      "}\n",
      ", '_keep_checkpoint_max': 5, '_keep_checkpoint_every_n_hours': 10000, '_log_step_count_steps': 100, '_train_distribute': None, '_device_fn': None, '_protocol': None, '_eval_distribute': None, '_experimental_distribute': None, '_experimental_max_worker_delay_secs': None, '_session_creation_timeout_secs': 7200, '_service': None, '_cluster_spec': <tensorflow.python.training.server_lib.ClusterSpec object at 0x00000211D83194C8>, '_task_type': 'worker', '_task_id': 0, '_global_id_in_cluster': 0, '_master': '', '_evaluation_master': '', '_is_chief': True, '_num_ps_replicas': 0, '_num_worker_replicas': 1}\n"
     ]
    }
   ],
   "source": [
    "estimator = tf.estimator.LinearRegressor(    \n",
    "        feature_columns=feature_cols,   \n",
    "        model_dir=\"train\")"
   ]
  },
  {
   "cell_type": "markdown",
   "metadata": {},
   "source": [
    "Tensorflow will automatically create a file named train in your working directory. You need to use this path to access the Tensorboard."
   ]
  },
  {
   "cell_type": "code",
   "execution_count": 39,
   "metadata": {},
   "outputs": [],
   "source": [
    "def get_input_fn(data_set, num_epochs=None, n_batch = 128, shuffle=True):    \n",
    "         return tf.compat.v1.estimator.inputs.pandas_input_fn(       \n",
    "         x=pd.DataFrame({k: data_set[k].values for k in FEATURES}),   #creating dataframe from dictionary{column_name:column_data}    \n",
    "         y = pd.Series(data_set[LABEL].values),       \n",
    "         batch_size=n_batch,          \n",
    "         num_epochs=num_epochs,       \n",
    "         shuffle=shuffle)"
   ]
  },
  {
   "cell_type": "code",
   "execution_count": 40,
   "metadata": {
    "scrolled": true
   },
   "outputs": [
    {
     "data": {
      "text/plain": [
       "<function tensorflow_estimator.python.estimator.inputs.pandas_io.pandas_input_fn.<locals>.input_fn()>"
      ]
     },
     "execution_count": 40,
     "metadata": {},
     "output_type": "execute_result"
    }
   ],
   "source": [
    "get_input_fn(training_set, num_epochs=None, n_batch = 128, shuffle=False)"
   ]
  },
  {
   "cell_type": "code",
   "execution_count": 43,
   "metadata": {
    "scrolled": true
   },
   "outputs": [
    {
     "name": "stdout",
     "output_type": "stream",
     "text": [
      "INFO:tensorflow:Calling model_fn.\n",
      "WARNING:tensorflow:Layer linear/linear_model is casting an input tensor from dtype float64 to the layer's dtype of float32, which is new behavior in TensorFlow 2.  The layer has dtype float32 because it's dtype defaults to floatx.\n",
      "\n",
      "If you intended to run this layer in float32, you can safely ignore this warning. If in doubt, this warning is likely only an issue if you are porting a TensorFlow 1.X model to TensorFlow 2.\n",
      "\n",
      "To change all layers to have dtype float64 by default, call `tf.keras.backend.set_floatx('float64')`. To change just this layer, pass dtype='float64' to the layer constructor. If you are the author of this layer, you can disable autocasting by passing autocast=False to the base Layer constructor.\n",
      "\n",
      "INFO:tensorflow:Done calling model_fn.\n",
      "INFO:tensorflow:Create CheckpointSaverHook.\n",
      "INFO:tensorflow:Graph was finalized.\n",
      "INFO:tensorflow:Restoring parameters from train\\model.ckpt-200\n",
      "INFO:tensorflow:Running local_init_op.\n",
      "INFO:tensorflow:Done running local_init_op.\n",
      "INFO:tensorflow:Saving checkpoints for 200 into train\\model.ckpt.\n",
      "INFO:tensorflow:loss = 28.24475, step = 200\n",
      "INFO:tensorflow:global_step/sec: 59.6604\n",
      "INFO:tensorflow:loss = 49.88719, step = 300 (1.810 sec)\n",
      "INFO:tensorflow:global_step/sec: 136.319\n",
      "INFO:tensorflow:loss = 32.384483, step = 400 (0.612 sec)\n",
      "INFO:tensorflow:global_step/sec: 145.391\n",
      "INFO:tensorflow:loss = 37.414234, step = 500 (0.680 sec)\n",
      "INFO:tensorflow:global_step/sec: 80.9719\n",
      "INFO:tensorflow:loss = 47.81942, step = 600 (1.247 sec)\n",
      "INFO:tensorflow:global_step/sec: 153.42\n",
      "INFO:tensorflow:loss = 32.934055, step = 700 (0.648 sec)\n",
      "INFO:tensorflow:global_step/sec: 162.385\n",
      "INFO:tensorflow:loss = 60.809486, step = 800 (0.612 sec)\n",
      "INFO:tensorflow:global_step/sec: 169.13\n",
      "INFO:tensorflow:loss = 22.321548, step = 900 (0.587 sec)\n",
      "INFO:tensorflow:global_step/sec: 175.162\n",
      "INFO:tensorflow:loss = 38.297985, step = 1000 (0.574 sec)\n",
      "INFO:tensorflow:global_step/sec: 175.926\n",
      "INFO:tensorflow:loss = 27.321152, step = 1100 (0.569 sec)\n",
      "INFO:tensorflow:Saving checkpoints for 1200 into train\\model.ckpt.\n",
      "INFO:tensorflow:Loss for final step: 45.350266.\n"
     ]
    },
    {
     "data": {
      "text/plain": [
       "<tensorflow_estimator.python.estimator.canned.linear.LinearRegressorV2 at 0x211d8319888>"
      ]
     },
     "execution_count": 43,
     "metadata": {},
     "output_type": "execute_result"
    }
   ],
   "source": [
    "# train the estimator(estimator is your model, check above)\n",
    "estimator.train(input_fn=get_input_fn(training_set, num_epochs=None, n_batch = 128, shuffle = False),steps=1000)"
   ]
  },
  {
   "cell_type": "code",
   "execution_count": 44,
   "metadata": {},
   "outputs": [
    {
     "name": "stdout",
     "output_type": "stream",
     "text": [
      "INFO:tensorflow:Calling model_fn.\n",
      "WARNING:tensorflow:Layer linear/linear_model is casting an input tensor from dtype float64 to the layer's dtype of float32, which is new behavior in TensorFlow 2.  The layer has dtype float32 because it's dtype defaults to floatx.\n",
      "\n",
      "If you intended to run this layer in float32, you can safely ignore this warning. If in doubt, this warning is likely only an issue if you are porting a TensorFlow 1.X model to TensorFlow 2.\n",
      "\n",
      "To change all layers to have dtype float64 by default, call `tf.keras.backend.set_floatx('float64')`. To change just this layer, pass dtype='float64' to the layer constructor. If you are the author of this layer, you can disable autocasting by passing autocast=False to the base Layer constructor.\n",
      "\n",
      "INFO:tensorflow:Done calling model_fn.\n",
      "INFO:tensorflow:Starting evaluation at 2019-11-11T18:28:29Z\n",
      "INFO:tensorflow:Graph was finalized.\n",
      "INFO:tensorflow:Restoring parameters from train\\model.ckpt-1200\n",
      "INFO:tensorflow:Running local_init_op.\n",
      "INFO:tensorflow:Done running local_init_op.\n",
      "INFO:tensorflow:Finished evaluation at 2019-11-11-18:28:45\n",
      "INFO:tensorflow:Saving dict for global step 1200: average_loss = 740.91156, global_step = 1200, label/mean = 15.955001, loss = 740.91156, prediction/mean = 35.330387\n",
      "INFO:tensorflow:Saving 'checkpoint_path' summary for global step 1200: train\\model.ckpt-1200\n"
     ]
    }
   ],
   "source": [
    "#evaluate the fit of your model on the test set\n",
    "ev = estimator.evaluate(    \n",
    "          input_fn=get_input_fn(test_set,                          \n",
    "          num_epochs=1,                          \n",
    "          n_batch = 128,                          \n",
    "          shuffle=False))\n"
   ]
  },
  {
   "cell_type": "code",
   "execution_count": 45,
   "metadata": {},
   "outputs": [
    {
     "name": "stdout",
     "output_type": "stream",
     "text": [
      "Loss: 740.9115600585938\n"
     ]
    }
   ],
   "source": [
    "#You can print the loss with the code\n",
    "loss_score = ev[\"loss\"]\n",
    "print(\"Loss: {}\".format(loss_score))"
   ]
  },
  {
   "cell_type": "raw",
   "metadata": {},
   "source": [
    "The model has a loss of 740. You can check the summary statistic to get an idea of how big the error is."
   ]
  },
  {
   "cell_type": "code",
   "execution_count": 46,
   "metadata": {},
   "outputs": [
    {
     "data": {
      "text/plain": [
       "count    350.000000\n",
       "mean      25.068857\n",
       "std        8.473240\n",
       "min       11.800000\n",
       "25%       19.500000\n",
       "50%       22.900000\n",
       "75%       28.700000\n",
       "max       50.000000\n",
       "Name: medv, dtype: float64"
      ]
     },
     "execution_count": 46,
     "metadata": {},
     "output_type": "execute_result"
    }
   ],
   "source": [
    "training_set['medv'].describe()"
   ]
  },
  {
   "cell_type": "markdown",
   "metadata": {},
   "source": [
    "From the summary statistic above, you know that the average price for a house is 25 thousand, with a minimum price of 11 thousands and maximum of 50 thousand. The model makes a typical error of 0.7k dollars."
   ]
  },
  {
   "cell_type": "code",
   "execution_count": 49,
   "metadata": {},
   "outputs": [],
   "source": [
    "# use the estimator predict to estimate the value\n",
    "y=estimator.predict(input_fn=get_input_fn(prediction_set,\n",
    "                                       num_epochs=1,\n",
    "                                       n_batch=128,\n",
    "                                       shuffle=False))\n"
   ]
  },
  {
   "cell_type": "code",
   "execution_count": 50,
   "metadata": {
    "scrolled": true
   },
   "outputs": [
    {
     "name": "stdout",
     "output_type": "stream",
     "text": [
      "INFO:tensorflow:Calling model_fn.\n",
      "WARNING:tensorflow:Layer linear/linear_model is casting an input tensor from dtype float64 to the layer's dtype of float32, which is new behavior in TensorFlow 2.  The layer has dtype float32 because it's dtype defaults to floatx.\n",
      "\n",
      "If you intended to run this layer in float32, you can safely ignore this warning. If in doubt, this warning is likely only an issue if you are porting a TensorFlow 1.X model to TensorFlow 2.\n",
      "\n",
      "To change all layers to have dtype float64 by default, call `tf.keras.backend.set_floatx('float64')`. To change just this layer, pass dtype='float64' to the layer constructor. If you are the author of this layer, you can disable autocasting by passing autocast=False to the base Layer constructor.\n",
      "\n",
      "INFO:tensorflow:Done calling model_fn.\n",
      "INFO:tensorflow:Graph was finalized.\n",
      "INFO:tensorflow:Restoring parameters from train\\model.ckpt-1200\n",
      "INFO:tensorflow:Running local_init_op.\n",
      "INFO:tensorflow:Done running local_init_op.\n",
      "Predictions: [array([9.708919], dtype=float32), array([33.164738], dtype=float32), array([34.512505], dtype=float32), array([39.050373], dtype=float32), array([12.009208], dtype=float32), array([9.916839], dtype=float32)]\n"
     ]
    }
   ],
   "source": [
    "predictions = list(p[\"predictions\"] for p in itertools.islice(y, 6))\n",
    "print(\"Predictions: {}\".format(str(predictions)))"
   ]
  },
  {
   "cell_type": "markdown",
   "metadata": {},
   "source": [
    "# using numpy estimator\n",
    "how to train the model using a numpy estimator to feed the data. The method is the same exept that you will use numpy_input_fn estimator."
   ]
  },
  {
   "cell_type": "raw",
   "metadata": {},
   "source": [
    "# we have training_set, test_set, prediction_set\n",
    "# We will define a function to split the data to differentiate the feature variables from the label."
   ]
  },
  {
   "cell_type": "code",
   "execution_count": 9,
   "metadata": {},
   "outputs": [],
   "source": [
    "def prepare(dframe):\n",
    "    x_values=dframe.iloc[:,:-1].values\n",
    "    y_values=dframe.iloc[:,-1].values\n",
    "    return x_values, y_values"
   ]
  },
  {
   "cell_type": "code",
   "execution_count": 10,
   "metadata": {},
   "outputs": [],
   "source": [
    "X_train, y_train = prepare(training_set)\n",
    "X_test, y_test = prepare(test_set)"
   ]
  },
  {
   "cell_type": "code",
   "execution_count": 11,
   "metadata": {},
   "outputs": [],
   "source": [
    "X_predict,y_predict = prepare(prediction_set)"
   ]
  },
  {
   "cell_type": "code",
   "execution_count": 12,
   "metadata": {},
   "outputs": [
    {
     "name": "stdout",
     "output_type": "stream",
     "text": [
      "(350, 13) (100, 13) (56, 13)\n"
     ]
    }
   ],
   "source": [
    "print(X_train.shape, X_test.shape, X_predict.shape)"
   ]
  },
  {
   "cell_type": "code",
   "execution_count": 70,
   "metadata": {},
   "outputs": [],
   "source": [
    "# construct the feature columns\n",
    "feature_columns = [tf.feature_column.numeric_column('x', shape=X_train.shape[1:])] # where x=pd.DataFrame({k: d_frame[k].values for k in FEATURES})\n",
    "# feature_columns = [tf.feature_column.numeric_column(k) for k in FEATURES]"
   ]
  },
  {
   "cell_type": "code",
   "execution_count": 71,
   "metadata": {
    "scrolled": true
   },
   "outputs": [
    {
     "name": "stdout",
     "output_type": "stream",
     "text": [
      "INFO:tensorflow:Using default config.\n",
      "INFO:tensorflow:Using config: {'_model_dir': 'train1', '_tf_random_seed': None, '_save_summary_steps': 100, '_save_checkpoints_steps': None, '_save_checkpoints_secs': 600, '_session_config': allow_soft_placement: true\n",
      "graph_options {\n",
      "  rewrite_options {\n",
      "    meta_optimizer_iterations: ONE\n",
      "  }\n",
      "}\n",
      ", '_keep_checkpoint_max': 5, '_keep_checkpoint_every_n_hours': 10000, '_log_step_count_steps': 100, '_train_distribute': None, '_device_fn': None, '_protocol': None, '_eval_distribute': None, '_experimental_distribute': None, '_experimental_max_worker_delay_secs': None, '_session_creation_timeout_secs': 7200, '_service': None, '_cluster_spec': <tensorflow.python.training.server_lib.ClusterSpec object at 0x000001DAE884C548>, '_task_type': 'worker', '_task_id': 0, '_global_id_in_cluster': 0, '_master': '', '_evaluation_master': '', '_is_chief': True, '_num_ps_replicas': 0, '_num_worker_replicas': 1}\n"
     ]
    }
   ],
   "source": [
    "#The estimator is defined as before, you instruct the feature columns and where to save the graph.\n",
    "estimator = tf.estimator.LinearRegressor(    \n",
    "         feature_columns=feature_columns,    \n",
    "         model_dir=\"train1\")"
   ]
  },
  {
   "cell_type": "code",
   "execution_count": 76,
   "metadata": {},
   "outputs": [
    {
     "data": {
      "text/plain": [
       "350"
      ]
     },
     "execution_count": 76,
     "metadata": {},
     "output_type": "execute_result"
    }
   ],
   "source": [
    "len(y_train)"
   ]
  },
  {
   "cell_type": "code",
   "execution_count": 73,
   "metadata": {},
   "outputs": [
    {
     "data": {
      "text/plain": [
       "{'x': array([[6.3200e-03, 1.8000e+01, 2.3100e+00, ..., 1.5300e+01, 3.9690e+02,\n",
       "         4.9800e+00],\n",
       "        [2.7310e-02, 0.0000e+00, 7.0700e+00, ..., 1.7800e+01, 3.9690e+02,\n",
       "         9.1400e+00],\n",
       "        [2.7290e-02, 0.0000e+00, 7.0700e+00, ..., 1.7800e+01, 3.9283e+02,\n",
       "         4.0300e+00],\n",
       "        ...,\n",
       "        [1.8700e-02, 8.5000e+01, 4.1500e+00, ..., 1.7900e+01, 3.9243e+02,\n",
       "         6.3600e+00],\n",
       "        [1.5010e-02, 8.0000e+01, 2.0100e+00, ..., 1.7000e+01, 3.9094e+02,\n",
       "         5.9900e+00],\n",
       "        [2.8990e-02, 4.0000e+01, 1.2500e+00, ..., 1.9700e+01, 3.8985e+02,\n",
       "         5.8900e+00]])}"
      ]
     },
     "execution_count": 73,
     "metadata": {},
     "output_type": "execute_result"
    }
   ],
   "source": [
    "{\"x\": X_train} # it is ndarray of rows of x_train"
   ]
  },
  {
   "cell_type": "code",
   "execution_count": 74,
   "metadata": {},
   "outputs": [],
   "source": [
    "# create input to Train the estimator\n",
    "train_input=tf.compat.v1.estimator.inputs.numpy_input_fn(\n",
    "                    x={\"x\": X_train},\n",
    "                    y=y_train,\n",
    "                    batch_size=128,\n",
    "                    shuffle=False,\n",
    "                    num_epochs=None)"
   ]
  },
  {
   "cell_type": "code",
   "execution_count": 75,
   "metadata": {},
   "outputs": [
    {
     "name": "stdout",
     "output_type": "stream",
     "text": [
      "INFO:tensorflow:Calling model_fn.\n",
      "WARNING:tensorflow:Layer linear/linear_model is casting an input tensor from dtype float64 to the layer's dtype of float32, which is new behavior in TensorFlow 2.  The layer has dtype float32 because it's dtype defaults to floatx.\n",
      "\n",
      "If you intended to run this layer in float32, you can safely ignore this warning. If in doubt, this warning is likely only an issue if you are porting a TensorFlow 1.X model to TensorFlow 2.\n",
      "\n",
      "To change all layers to have dtype float64 by default, call `tf.keras.backend.set_floatx('float64')`. To change just this layer, pass dtype='float64' to the layer constructor. If you are the author of this layer, you can disable autocasting by passing autocast=False to the base Layer constructor.\n",
      "\n",
      "INFO:tensorflow:Done calling model_fn.\n",
      "INFO:tensorflow:Create CheckpointSaverHook.\n",
      "INFO:tensorflow:Graph was finalized.\n",
      "INFO:tensorflow:Restoring parameters from train1\\model.ckpt-10000\n",
      "INFO:tensorflow:Running local_init_op.\n",
      "INFO:tensorflow:Done running local_init_op.\n",
      "INFO:tensorflow:Saving checkpoints for 10000 into train1\\model.ckpt.\n",
      "INFO:tensorflow:loss = 11.273365, step = 10000\n",
      "INFO:tensorflow:global_step/sec: 217.678\n",
      "INFO:tensorflow:loss = 20.15383, step = 10100 (0.442 sec)\n",
      "INFO:tensorflow:global_step/sec: 436.613\n",
      "INFO:tensorflow:loss = 15.018881, step = 10200 (0.192 sec)\n",
      "INFO:tensorflow:global_step/sec: 609.94\n",
      "INFO:tensorflow:loss = 16.570726, step = 10300 (0.164 sec)\n",
      "INFO:tensorflow:global_step/sec: 581.566\n",
      "INFO:tensorflow:loss = 23.51267, step = 10400 (0.172 sec)\n",
      "INFO:tensorflow:global_step/sec: 581.561\n",
      "INFO:tensorflow:loss = 13.592926, step = 10500 (0.172 sec)\n",
      "INFO:tensorflow:global_step/sec: 581.572\n",
      "INFO:tensorflow:loss = 27.97483, step = 10600 (0.168 sec)\n",
      "INFO:tensorflow:global_step/sec: 595.41\n",
      "INFO:tensorflow:loss = 10.655584, step = 10700 (0.172 sec)\n",
      "INFO:tensorflow:global_step/sec: 595.421\n",
      "INFO:tensorflow:loss = 19.578293, step = 10800 (0.168 sec)\n",
      "INFO:tensorflow:global_step/sec: 581.561\n",
      "INFO:tensorflow:loss = 14.629399, step = 10900 (0.172 sec)\n",
      "INFO:tensorflow:global_step/sec: 532.077\n",
      "INFO:tensorflow:loss = 16.103758, step = 11000 (0.184 sec)\n",
      "INFO:tensorflow:global_step/sec: 568.352\n",
      "INFO:tensorflow:loss = 22.932331, step = 11100 (0.180 sec)\n",
      "INFO:tensorflow:global_step/sec: 595.416\n",
      "INFO:tensorflow:loss = 13.1414585, step = 11200 (0.168 sec)\n",
      "INFO:tensorflow:global_step/sec: 555.712\n",
      "INFO:tensorflow:loss = 27.311726, step = 11300 (0.180 sec)\n",
      "INFO:tensorflow:global_step/sec: 567.079\n",
      "INFO:tensorflow:loss = 10.287629, step = 11400 (0.188 sec)\n",
      "INFO:tensorflow:global_step/sec: 546.927\n",
      "INFO:tensorflow:loss = 19.042805, step = 11500 (0.167 sec)\n",
      "INFO:tensorflow:global_step/sec: 514.682\n",
      "INFO:tensorflow:loss = 14.275003, step = 11600 (0.194 sec)\n",
      "INFO:tensorflow:global_step/sec: 450.115\n",
      "INFO:tensorflow:loss = 15.666389, step = 11700 (0.238 sec)\n",
      "INFO:tensorflow:global_step/sec: 458.822\n",
      "INFO:tensorflow:loss = 22.398483, step = 11800 (0.206 sec)\n",
      "WARNING:tensorflow:It seems that global step (tf.train.get_global_step) has not been increased. Current value (could be stable): 11888 vs previous value: 11888. You could increase the global step by passing tf.train.get_global_step() to Optimizer.apply_gradients or Optimizer.minimize.\n",
      "INFO:tensorflow:global_step/sec: 337.936\n",
      "INFO:tensorflow:loss = 12.72212, step = 11900 (0.328 sec)\n",
      "INFO:tensorflow:global_step/sec: 357.25\n",
      "INFO:tensorflow:loss = 26.698803, step = 12000 (0.248 sec)\n",
      "INFO:tensorflow:global_step/sec: 471.84\n",
      "INFO:tensorflow:loss = 9.949009, step = 12100 (0.212 sec)\n",
      "INFO:tensorflow:global_step/sec: 625.185\n",
      "INFO:tensorflow:loss = 18.543657, step = 12200 (0.160 sec)\n",
      "INFO:tensorflow:global_step/sec: 581.566\n",
      "INFO:tensorflow:loss = 13.952334, step = 12300 (0.176 sec)\n",
      "INFO:tensorflow:global_step/sec: 510.357\n",
      "INFO:tensorflow:loss = 15.256356, step = 12400 (0.188 sec)\n",
      "INFO:tensorflow:global_step/sec: 500.147\n",
      "INFO:tensorflow:loss = 21.906357, step = 12500 (0.204 sec)\n",
      "INFO:tensorflow:global_step/sec: 555.722\n",
      "INFO:tensorflow:loss = 12.332019, step = 12600 (0.184 sec)\n",
      "INFO:tensorflow:global_step/sec: 595.412\n",
      "INFO:tensorflow:loss = 26.13081, step = 12700 (0.282 sec)\n",
      "INFO:tensorflow:global_step/sec: 261.773\n",
      "INFO:tensorflow:loss = 9.637033, step = 12800 (0.264 sec)\n",
      "WARNING:tensorflow:It seems that global step (tf.train.get_global_step) has not been increased. Current value (could be stable): 12864 vs previous value: 12864. You could increase the global step by passing tf.train.get_global_step() to Optimizer.apply_gradients or Optimizer.minimize.\n",
      "INFO:tensorflow:global_step/sec: 431.163\n",
      "INFO:tensorflow:loss = 18.077583, step = 12900 (0.236 sec)\n",
      "INFO:tensorflow:global_step/sec: 333.431\n",
      "INFO:tensorflow:loss = 13.658202, step = 13000 (0.296 sec)\n",
      "INFO:tensorflow:global_step/sec: 396.946\n",
      "INFO:tensorflow:loss = 14.8717165, step = 13100 (0.260 sec)\n",
      "INFO:tensorflow:global_step/sec: 446.558\n",
      "INFO:tensorflow:loss = 21.451881, step = 13200 (0.216 sec)\n",
      "INFO:tensorflow:global_step/sec: 480.912\n",
      "INFO:tensorflow:loss = 11.968875, step = 13300 (0.208 sec)\n",
      "INFO:tensorflow:global_step/sec: 480.91\n",
      "INFO:tensorflow:loss = 25.603258, step = 13400 (0.208 sec)\n",
      "INFO:tensorflow:global_step/sec: 500.148\n",
      "INFO:tensorflow:loss = 9.349354, step = 13500 (0.204 sec)\n",
      "INFO:tensorflow:global_step/sec: 480.913\n",
      "INFO:tensorflow:loss = 17.641705, step = 13600 (0.208 sec)\n",
      "WARNING:tensorflow:It seems that global step (tf.train.get_global_step) has not been increased. Current value (could be stable): 13652 vs previous value: 13652. You could increase the global step by passing tf.train.get_global_step() to Optimizer.apply_gradients or Optimizer.minimize.\n",
      "INFO:tensorflow:global_step/sec: 372.892\n",
      "INFO:tensorflow:loss = 13.389774, step = 13700 (0.276 sec)\n",
      "INFO:tensorflow:global_step/sec: 405.184\n",
      "INFO:tensorflow:loss = 14.510639, step = 13800 (0.235 sec)\n",
      "INFO:tensorflow:global_step/sec: 452.442\n",
      "INFO:tensorflow:loss = 21.031454, step = 13900 (0.225 sec)\n",
      "INFO:tensorflow:global_step/sec: 454.674\n",
      "INFO:tensorflow:loss = 11.630463, step = 14000 (0.216 sec)\n",
      "INFO:tensorflow:global_step/sec: 446.564\n",
      "INFO:tensorflow:loss = 25.11225, step = 14100 (0.228 sec)\n",
      "INFO:tensorflow:global_step/sec: 454.679\n",
      "INFO:tensorflow:loss = 9.083832, step = 14200 (0.216 sec)\n",
      "INFO:tensorflow:global_step/sec: 396.943\n",
      "INFO:tensorflow:loss = 17.233494, step = 14300 (0.256 sec)\n",
      "INFO:tensorflow:global_step/sec: 609.942\n",
      "INFO:tensorflow:loss = 13.144552, step = 14400 (0.160 sec)\n",
      "INFO:tensorflow:global_step/sec: 658.091\n",
      "INFO:tensorflow:loss = 14.1714945, step = 14500 (0.156 sec)\n",
      "INFO:tensorflow:global_step/sec: 438.727\n",
      "INFO:tensorflow:loss = 20.64194, step = 14600 (0.224 sec)\n",
      "INFO:tensorflow:global_step/sec: 641.207\n",
      "INFO:tensorflow:loss = 11.31486, step = 14700 (0.156 sec)\n",
      "INFO:tensorflow:global_step/sec: 625.187\n",
      "INFO:tensorflow:loss = 24.654394, step = 14800 (0.156 sec)\n",
      "INFO:tensorflow:global_step/sec: 625.195\n",
      "INFO:tensorflow:loss = 8.838587, step = 14900 (0.164 sec)\n",
      "INFO:tensorflow:Saving checkpoints for 15000 into train1\\model.ckpt.\n",
      "INFO:tensorflow:Loss for final step: 16.903505.\n"
     ]
    },
    {
     "data": {
      "text/plain": [
       "<tensorflow_estimator.python.estimator.canned.linear.LinearRegressorV2 at 0x1dae8832e48>"
      ]
     },
     "execution_count": 75,
     "metadata": {},
     "output_type": "execute_result"
    }
   ],
   "source": [
    "# train estimator\n",
    "estimator.train(input_fn=train_input,steps=5000)"
   ]
  },
  {
   "cell_type": "code",
   "execution_count": 19,
   "metadata": {},
   "outputs": [],
   "source": [
    "# create input to evaluate the model\n",
    "eval_input=tf.compat.v1.estimator.inputs.numpy_input_fn(\n",
    "                    x={\"x\":X_test},\n",
    "                    y=y_test,\n",
    "                    batch_size=128,\n",
    "                    shuffle=False,\n",
    "                    num_epochs=1)"
   ]
  },
  {
   "cell_type": "code",
   "execution_count": 80,
   "metadata": {},
   "outputs": [
    {
     "name": "stdout",
     "output_type": "stream",
     "text": [
      "INFO:tensorflow:Calling model_fn.\n",
      "WARNING:tensorflow:Layer linear/linear_model is casting an input tensor from dtype float64 to the layer's dtype of float32, which is new behavior in TensorFlow 2.  The layer has dtype float32 because it's dtype defaults to floatx.\n",
      "\n",
      "If you intended to run this layer in float32, you can safely ignore this warning. If in doubt, this warning is likely only an issue if you are porting a TensorFlow 1.X model to TensorFlow 2.\n",
      "\n",
      "To change all layers to have dtype float64 by default, call `tf.keras.backend.set_floatx('float64')`. To change just this layer, pass dtype='float64' to the layer constructor. If you are the author of this layer, you can disable autocasting by passing autocast=False to the base Layer constructor.\n",
      "\n",
      "INFO:tensorflow:Done calling model_fn.\n",
      "INFO:tensorflow:Starting evaluation at 2019-11-11T19:29:43Z\n",
      "INFO:tensorflow:Graph was finalized.\n",
      "INFO:tensorflow:Restoring parameters from train1\\model.ckpt-5000\n",
      "INFO:tensorflow:Running local_init_op.\n",
      "INFO:tensorflow:Done running local_init_op.\n",
      "INFO:tensorflow:Finished evaluation at 2019-11-11-19:29:45\n",
      "INFO:tensorflow:Saving dict for global step 5000: average_loss = 1911.6772, global_step = 5000, label/mean = 15.955001, loss = 1911.6772, prediction/mean = 46.93169\n",
      "INFO:tensorflow:Saving 'checkpoint_path' summary for global step 5000: train1\\model.ckpt-5000\n"
     ]
    },
    {
     "data": {
      "text/plain": [
       "{'average_loss': 1911.6772,\n",
       " 'label/mean': 15.955001,\n",
       " 'loss': 1911.6772,\n",
       " 'prediction/mean': 46.93169,\n",
       " 'global_step': 5000}"
      ]
     },
     "execution_count": 80,
     "metadata": {},
     "output_type": "execute_result"
    }
   ],
   "source": [
    "# evaluate the model\n",
    "estimator.evaluate(input_fn=eval_input, steps=None)"
   ]
  },
  {
   "cell_type": "code",
   "execution_count": 81,
   "metadata": {},
   "outputs": [],
   "source": [
    "# to create input to test model\n",
    "predict_input=tf.compat.v1.estimator.inputs.numpy_input_fn(\n",
    "                    x={\"x\":X_predict},\n",
    "                    batch_size=128,\n",
    "                    shuffle=False,\n",
    "                    num_epochs=1)"
   ]
  },
  {
   "cell_type": "code",
   "execution_count": 83,
   "metadata": {},
   "outputs": [],
   "source": [
    "y = estimator.predict(predict_input) "
   ]
  },
  {
   "cell_type": "code",
   "execution_count": 84,
   "metadata": {
    "scrolled": true
   },
   "outputs": [
    {
     "name": "stdout",
     "output_type": "stream",
     "text": [
      "INFO:tensorflow:Calling model_fn.\n",
      "WARNING:tensorflow:Layer linear/linear_model is casting an input tensor from dtype float64 to the layer's dtype of float32, which is new behavior in TensorFlow 2.  The layer has dtype float32 because it's dtype defaults to floatx.\n",
      "\n",
      "If you intended to run this layer in float32, you can safely ignore this warning. If in doubt, this warning is likely only an issue if you are porting a TensorFlow 1.X model to TensorFlow 2.\n",
      "\n",
      "To change all layers to have dtype float64 by default, call `tf.keras.backend.set_floatx('float64')`. To change just this layer, pass dtype='float64' to the layer constructor. If you are the author of this layer, you can disable autocasting by passing autocast=False to the base Layer constructor.\n",
      "\n",
      "INFO:tensorflow:Done calling model_fn.\n",
      "INFO:tensorflow:Graph was finalized.\n",
      "INFO:tensorflow:Restoring parameters from train1\\model.ckpt-5000\n",
      "INFO:tensorflow:Running local_init_op.\n",
      "INFO:tensorflow:Done running local_init_op.\n",
      "Predictions: [array([18.301329], dtype=float32), array([36.191578], dtype=float32), array([36.564926], dtype=float32), array([45.308662], dtype=float32), array([23.101326], dtype=float32), array([16.082914], dtype=float32)]\n"
     ]
    }
   ],
   "source": [
    "predictions = list(p[\"predictions\"] for p in itertools.islice(y, 6))\n",
    "print(\"Predictions: {}\".format(str(predictions)))"
   ]
  },
  {
   "cell_type": "code",
   "execution_count": null,
   "metadata": {},
   "outputs": [],
   "source": []
  }
 ],
 "metadata": {
  "kernelspec": {
   "display_name": "Python 3",
   "language": "python",
   "name": "python3"
  },
  "language_info": {
   "codemirror_mode": {
    "name": "ipython",
    "version": 3
   },
   "file_extension": ".py",
   "mimetype": "text/x-python",
   "name": "python",
   "nbconvert_exporter": "python",
   "pygments_lexer": "ipython3",
   "version": "3.7.4"
  }
 },
 "nbformat": 4,
 "nbformat_minor": 4
}
